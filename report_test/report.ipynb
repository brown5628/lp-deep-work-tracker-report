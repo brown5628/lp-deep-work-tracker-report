{
  "cells": [
    {
      "cell_type": "code",
      "source": [
        "import pandas as pd\n",
        "import altair as alt\n",
        "import numpy as np\n"
      ],
      "outputs": [],
      "execution_count": 1,
      "metadata": {
        "collapsed": false,
        "outputHidden": false,
        "inputHidden": false
      }
    },
    {
      "cell_type": "code",
      "source": [
        "parm = 'merp'"
      ],
      "outputs": [],
      "execution_count": null,
      "metadata": {
        "collapsed": false,
        "outputHidden": false,
        "inputHidden": false,
        "tags": [
          "parameters"
        ]
      }
    },
    {
      "cell_type": "code",
      "source": [
        "raw = pd.read_excel(r'C:\\Users\\brown\\OneDrive\\deep_work_tracker.xlsx')\n"
      ],
      "outputs": [],
      "execution_count": 2,
      "metadata": {
        "collapsed": false,
        "outputHidden": false,
        "inputHidden": false
      }
    },
    {
      "cell_type": "code",
      "source": [
        "wrangled = raw.copy()\n",
        "#wrangled.assign\n"
      ],
      "outputs": [],
      "execution_count": 3,
      "metadata": {
        "collapsed": false,
        "outputHidden": false,
        "inputHidden": false
      }
    },
    {
      "cell_type": "code",
      "source": [
        "upper = alt.Chart(wrangled).mark_rect().encode(\n",
        "    x = 'week_number:O',\n",
        "    y = 'weekday:O',\n",
        "    color = 'minutes:Q'\n",
        ")\n",
        "\n",
        "lower = alt.Chart(wrangled).mark_bar().encode(\n",
        "    x = 'sum(minutes):Q',\n",
        "    y = 'type:N'\n",
        ")\n",
        "\n",
        "alt.vconcat(upper,lower)\n"
      ],
      "outputs": [
        {
          "output_type": "execute_result",
          "execution_count": 4,
          "data": {
            "application/vnd.vegalite.v3+json": {
              "config": {
                "view": {
                  "width": 400,
                  "height": 300
                },
                "mark": {
                  "tooltip": null
                }
              },
              "vconcat": [
                {
                  "mark": "rect",
                  "encoding": {
                    "color": {
                      "type": "quantitative",
                      "field": "minutes"
                    },
                    "x": {
                      "type": "ordinal",
                      "field": "week_number"
                    },
                    "y": {
                      "type": "ordinal",
                      "field": "weekday"
                    }
                  }
                },
                {
                  "mark": "bar",
                  "encoding": {
                    "x": {
                      "type": "quantitative",
                      "aggregate": "sum",
                      "field": "minutes"
                    },
                    "y": {
                      "type": "nominal",
                      "field": "type"
                    }
                  }
                }
              ],
              "data": {
                "name": "data-a187fe47001069d97ecea2d69eb046d1"
              },
              "$schema": "https://vega.github.io/schema/vega-lite/v3.4.0.json",
              "datasets": {
                "data-a187fe47001069d97ecea2d69eb046d1": [
                  {
                    "date": "2019-10-05T00:00:00",
                    "week_number": 40,
                    "weekday": 7,
                    "type": "Professional Development",
                    "minutes": 95
                  },
                  {
                    "date": "2019-10-05T00:00:00",
                    "week_number": 40,
                    "weekday": 7,
                    "type": "Learning Project",
                    "minutes": 38
                  },
                  {
                    "date": "2019-10-07T00:00:00",
                    "week_number": 41,
                    "weekday": 2,
                    "type": "Professional Development",
                    "minutes": 25
                  },
                  {
                    "date": "2019-10-07T00:00:00",
                    "week_number": 41,
                    "weekday": 2,
                    "type": "Professional Development",
                    "minutes": 65
                  },
                  {
                    "date": "2019-10-07T00:00:00",
                    "week_number": 41,
                    "weekday": 2,
                    "type": "Sprint",
                    "minutes": 180
                  },
                  {
                    "date": "2019-10-08T00:00:00",
                    "week_number": 41,
                    "weekday": 3,
                    "type": "Professional Development",
                    "minutes": 55
                  },
                  {
                    "date": "2019-10-08T00:00:00",
                    "week_number": 41,
                    "weekday": 3,
                    "type": "Professional Development",
                    "minutes": 47
                  },
                  {
                    "date": "2019-10-08T00:00:00",
                    "week_number": 41,
                    "weekday": 3,
                    "type": "Sprint",
                    "minutes": 180
                  },
                  {
                    "date": "2019-10-09T00:00:00",
                    "week_number": 41,
                    "weekday": 4,
                    "type": "Professional Development",
                    "minutes": 97
                  },
                  {
                    "date": "2019-10-09T00:00:00",
                    "week_number": 41,
                    "weekday": 4,
                    "type": "Sprint",
                    "minutes": 60
                  },
                  {
                    "date": "2019-10-09T00:00:00",
                    "week_number": 41,
                    "weekday": 4,
                    "type": "Sprint",
                    "minutes": 120
                  },
                  {
                    "date": "2019-10-10T00:00:00",
                    "week_number": 41,
                    "weekday": 5,
                    "type": "Sprint",
                    "minutes": 25
                  },
                  {
                    "date": "2019-10-10T00:00:00",
                    "week_number": 41,
                    "weekday": 5,
                    "type": "Sprint",
                    "minutes": 103
                  },
                  {
                    "date": "2019-10-10T00:00:00",
                    "week_number": 41,
                    "weekday": 5,
                    "type": "Sprint",
                    "minutes": 52
                  },
                  {
                    "date": "2019-10-11T00:00:00",
                    "week_number": 41,
                    "weekday": 6,
                    "type": "Learning Project",
                    "minutes": 105
                  },
                  {
                    "date": "2019-10-11T00:00:00",
                    "week_number": 41,
                    "weekday": 6,
                    "type": "Learning Project",
                    "minutes": 90
                  },
                  {
                    "date": "2019-10-12T00:00:00",
                    "week_number": 41,
                    "weekday": 7,
                    "type": "Professional Development",
                    "minutes": 102
                  },
                  {
                    "date": "2019-10-12T00:00:00",
                    "week_number": 41,
                    "weekday": 7,
                    "type": "Professional Development",
                    "minutes": 87
                  },
                  {
                    "date": "2019-10-14T00:00:00",
                    "week_number": 42,
                    "weekday": 2,
                    "type": "Professional Development",
                    "minutes": 90
                  },
                  {
                    "date": "2019-10-14T00:00:00",
                    "week_number": 42,
                    "weekday": 2,
                    "type": "Professional Development",
                    "minutes": 31
                  },
                  {
                    "date": "2019-10-15T00:00:00",
                    "week_number": 42,
                    "weekday": 3,
                    "type": "Professional Development",
                    "minutes": 67
                  },
                  {
                    "date": "2019-10-15T00:00:00",
                    "week_number": 42,
                    "weekday": 3,
                    "type": "Sprint",
                    "minutes": 90
                  },
                  {
                    "date": "2019-10-15T00:00:00",
                    "week_number": 42,
                    "weekday": 3,
                    "type": "Sprint",
                    "minutes": 90
                  },
                  {
                    "date": "2019-10-17T00:00:00",
                    "week_number": 42,
                    "weekday": 5,
                    "type": "Professional Development",
                    "minutes": 94
                  },
                  {
                    "date": "2019-10-17T00:00:00",
                    "week_number": 42,
                    "weekday": 5,
                    "type": "Sprint",
                    "minutes": 180
                  },
                  {
                    "date": "2019-10-18T00:00:00",
                    "week_number": 42,
                    "weekday": 6,
                    "type": "Learning Project",
                    "minutes": 78
                  },
                  {
                    "date": "2019-10-18T00:00:00",
                    "week_number": 42,
                    "weekday": 6,
                    "type": "Sprint",
                    "minutes": 90
                  },
                  {
                    "date": "2019-10-19T00:00:00",
                    "week_number": 42,
                    "weekday": 7,
                    "type": "Professional Development",
                    "minutes": 90
                  },
                  {
                    "date": "2019-10-21T00:00:00",
                    "week_number": 43,
                    "weekday": 2,
                    "type": "Professional Development",
                    "minutes": 90
                  },
                  {
                    "date": "2019-10-21T00:00:00",
                    "week_number": 43,
                    "weekday": 2,
                    "type": "Sprint",
                    "minutes": 180
                  },
                  {
                    "date": "2019-10-22T00:00:00",
                    "week_number": 43,
                    "weekday": 3,
                    "type": "Professional Development",
                    "minutes": 95
                  },
                  {
                    "date": "2019-10-22T00:00:00",
                    "week_number": 43,
                    "weekday": 3,
                    "type": "Sprint",
                    "minutes": 180
                  },
                  {
                    "date": "2019-10-23T00:00:00",
                    "week_number": 43,
                    "weekday": 4,
                    "type": "Professional Development",
                    "minutes": 90
                  },
                  {
                    "date": "2019-10-23T00:00:00",
                    "week_number": 43,
                    "weekday": 4,
                    "type": "Learning Project",
                    "minutes": 45
                  },
                  {
                    "date": "2019-10-23T00:00:00",
                    "week_number": 43,
                    "weekday": 4,
                    "type": "Sprint",
                    "minutes": 180
                  },
                  {
                    "date": "2019-10-28T00:00:00",
                    "week_number": 44,
                    "weekday": 2,
                    "type": "Sprint",
                    "minutes": 90
                  },
                  {
                    "date": "2019-10-28T00:00:00",
                    "week_number": 44,
                    "weekday": 2,
                    "type": "Sprint",
                    "minutes": 45
                  },
                  {
                    "date": "2019-10-28T00:00:00",
                    "week_number": 44,
                    "weekday": 2,
                    "type": "Sprint",
                    "minutes": 90
                  },
                  {
                    "date": "2019-10-29T00:00:00",
                    "week_number": 44,
                    "weekday": 3,
                    "type": "Professional Development",
                    "minutes": 75
                  },
                  {
                    "date": "2019-10-29T00:00:00",
                    "week_number": 44,
                    "weekday": 3,
                    "type": "Sprint",
                    "minutes": 90
                  },
                  {
                    "date": "2019-10-29T00:00:00",
                    "week_number": 44,
                    "weekday": 3,
                    "type": "Sprint",
                    "minutes": 90
                  },
                  {
                    "date": "2019-10-30T00:00:00",
                    "week_number": 44,
                    "weekday": 4,
                    "type": "Professional Development",
                    "minutes": 86
                  },
                  {
                    "date": "2019-10-30T00:00:00",
                    "week_number": 44,
                    "weekday": 4,
                    "type": "Sprint",
                    "minutes": 180
                  },
                  {
                    "date": "2019-10-31T00:00:00",
                    "week_number": 44,
                    "weekday": 5,
                    "type": "Sprint",
                    "minutes": 90
                  },
                  {
                    "date": "2019-10-31T00:00:00",
                    "week_number": 44,
                    "weekday": 5,
                    "type": "Learning Project",
                    "minutes": 90
                  },
                  {
                    "date": "2019-11-01T00:00:00",
                    "week_number": 44,
                    "weekday": 6,
                    "type": "Sprint",
                    "minutes": 180
                  },
                  {
                    "date": "2019-11-02T00:00:00",
                    "week_number": 44,
                    "weekday": 7,
                    "type": "Professional Development",
                    "minutes": 120
                  }
                ]
              }
            },
            "text/plain": [
              "<VegaLite 3 object>\n",
              "\n",
              "If you see this message, it means the renderer has not been properly enabled\n",
              "for the frontend that you are using. For more information, see\n",
              "https://altair-viz.github.io/user_guide/troubleshooting.html\n"
            ]
          },
          "metadata": {}
        }
      ],
      "execution_count": 4,
      "metadata": {
        "collapsed": false,
        "outputHidden": false,
        "inputHidden": false
      }
    },
    {
      "cell_type": "code",
      "source": [
        "alt.Chart(wrangled).mark_rect().encode(\n",
        "    x = 'week_number:O',\n",
        "    y = 'weekday:O',\n",
        "    color = 'minutes:Q'\n",
        ").facet(\n",
        "    column = 'type:N'\n",
        ")"
      ],
      "outputs": [
        {
          "output_type": "execute_result",
          "execution_count": 5,
          "data": {
            "application/vnd.vegalite.v3+json": {
              "config": {
                "view": {
                  "width": 400,
                  "height": 300
                },
                "mark": {
                  "tooltip": null
                }
              },
              "data": {
                "name": "data-a187fe47001069d97ecea2d69eb046d1"
              },
              "facet": {
                "column": {
                  "type": "nominal",
                  "field": "type"
                }
              },
              "spec": {
                "mark": "rect",
                "encoding": {
                  "color": {
                    "type": "quantitative",
                    "field": "minutes"
                  },
                  "x": {
                    "type": "ordinal",
                    "field": "week_number"
                  },
                  "y": {
                    "type": "ordinal",
                    "field": "weekday"
                  }
                }
              },
              "$schema": "https://vega.github.io/schema/vega-lite/v3.4.0.json",
              "datasets": {
                "data-a187fe47001069d97ecea2d69eb046d1": [
                  {
                    "date": "2019-10-05T00:00:00",
                    "week_number": 40,
                    "weekday": 7,
                    "type": "Professional Development",
                    "minutes": 95
                  },
                  {
                    "date": "2019-10-05T00:00:00",
                    "week_number": 40,
                    "weekday": 7,
                    "type": "Learning Project",
                    "minutes": 38
                  },
                  {
                    "date": "2019-10-07T00:00:00",
                    "week_number": 41,
                    "weekday": 2,
                    "type": "Professional Development",
                    "minutes": 25
                  },
                  {
                    "date": "2019-10-07T00:00:00",
                    "week_number": 41,
                    "weekday": 2,
                    "type": "Professional Development",
                    "minutes": 65
                  },
                  {
                    "date": "2019-10-07T00:00:00",
                    "week_number": 41,
                    "weekday": 2,
                    "type": "Sprint",
                    "minutes": 180
                  },
                  {
                    "date": "2019-10-08T00:00:00",
                    "week_number": 41,
                    "weekday": 3,
                    "type": "Professional Development",
                    "minutes": 55
                  },
                  {
                    "date": "2019-10-08T00:00:00",
                    "week_number": 41,
                    "weekday": 3,
                    "type": "Professional Development",
                    "minutes": 47
                  },
                  {
                    "date": "2019-10-08T00:00:00",
                    "week_number": 41,
                    "weekday": 3,
                    "type": "Sprint",
                    "minutes": 180
                  },
                  {
                    "date": "2019-10-09T00:00:00",
                    "week_number": 41,
                    "weekday": 4,
                    "type": "Professional Development",
                    "minutes": 97
                  },
                  {
                    "date": "2019-10-09T00:00:00",
                    "week_number": 41,
                    "weekday": 4,
                    "type": "Sprint",
                    "minutes": 60
                  },
                  {
                    "date": "2019-10-09T00:00:00",
                    "week_number": 41,
                    "weekday": 4,
                    "type": "Sprint",
                    "minutes": 120
                  },
                  {
                    "date": "2019-10-10T00:00:00",
                    "week_number": 41,
                    "weekday": 5,
                    "type": "Sprint",
                    "minutes": 25
                  },
                  {
                    "date": "2019-10-10T00:00:00",
                    "week_number": 41,
                    "weekday": 5,
                    "type": "Sprint",
                    "minutes": 103
                  },
                  {
                    "date": "2019-10-10T00:00:00",
                    "week_number": 41,
                    "weekday": 5,
                    "type": "Sprint",
                    "minutes": 52
                  },
                  {
                    "date": "2019-10-11T00:00:00",
                    "week_number": 41,
                    "weekday": 6,
                    "type": "Learning Project",
                    "minutes": 105
                  },
                  {
                    "date": "2019-10-11T00:00:00",
                    "week_number": 41,
                    "weekday": 6,
                    "type": "Learning Project",
                    "minutes": 90
                  },
                  {
                    "date": "2019-10-12T00:00:00",
                    "week_number": 41,
                    "weekday": 7,
                    "type": "Professional Development",
                    "minutes": 102
                  },
                  {
                    "date": "2019-10-12T00:00:00",
                    "week_number": 41,
                    "weekday": 7,
                    "type": "Professional Development",
                    "minutes": 87
                  },
                  {
                    "date": "2019-10-14T00:00:00",
                    "week_number": 42,
                    "weekday": 2,
                    "type": "Professional Development",
                    "minutes": 90
                  },
                  {
                    "date": "2019-10-14T00:00:00",
                    "week_number": 42,
                    "weekday": 2,
                    "type": "Professional Development",
                    "minutes": 31
                  },
                  {
                    "date": "2019-10-15T00:00:00",
                    "week_number": 42,
                    "weekday": 3,
                    "type": "Professional Development",
                    "minutes": 67
                  },
                  {
                    "date": "2019-10-15T00:00:00",
                    "week_number": 42,
                    "weekday": 3,
                    "type": "Sprint",
                    "minutes": 90
                  },
                  {
                    "date": "2019-10-15T00:00:00",
                    "week_number": 42,
                    "weekday": 3,
                    "type": "Sprint",
                    "minutes": 90
                  },
                  {
                    "date": "2019-10-17T00:00:00",
                    "week_number": 42,
                    "weekday": 5,
                    "type": "Professional Development",
                    "minutes": 94
                  },
                  {
                    "date": "2019-10-17T00:00:00",
                    "week_number": 42,
                    "weekday": 5,
                    "type": "Sprint",
                    "minutes": 180
                  },
                  {
                    "date": "2019-10-18T00:00:00",
                    "week_number": 42,
                    "weekday": 6,
                    "type": "Learning Project",
                    "minutes": 78
                  },
                  {
                    "date": "2019-10-18T00:00:00",
                    "week_number": 42,
                    "weekday": 6,
                    "type": "Sprint",
                    "minutes": 90
                  },
                  {
                    "date": "2019-10-19T00:00:00",
                    "week_number": 42,
                    "weekday": 7,
                    "type": "Professional Development",
                    "minutes": 90
                  },
                  {
                    "date": "2019-10-21T00:00:00",
                    "week_number": 43,
                    "weekday": 2,
                    "type": "Professional Development",
                    "minutes": 90
                  },
                  {
                    "date": "2019-10-21T00:00:00",
                    "week_number": 43,
                    "weekday": 2,
                    "type": "Sprint",
                    "minutes": 180
                  },
                  {
                    "date": "2019-10-22T00:00:00",
                    "week_number": 43,
                    "weekday": 3,
                    "type": "Professional Development",
                    "minutes": 95
                  },
                  {
                    "date": "2019-10-22T00:00:00",
                    "week_number": 43,
                    "weekday": 3,
                    "type": "Sprint",
                    "minutes": 180
                  },
                  {
                    "date": "2019-10-23T00:00:00",
                    "week_number": 43,
                    "weekday": 4,
                    "type": "Professional Development",
                    "minutes": 90
                  },
                  {
                    "date": "2019-10-23T00:00:00",
                    "week_number": 43,
                    "weekday": 4,
                    "type": "Learning Project",
                    "minutes": 45
                  },
                  {
                    "date": "2019-10-23T00:00:00",
                    "week_number": 43,
                    "weekday": 4,
                    "type": "Sprint",
                    "minutes": 180
                  },
                  {
                    "date": "2019-10-28T00:00:00",
                    "week_number": 44,
                    "weekday": 2,
                    "type": "Sprint",
                    "minutes": 90
                  },
                  {
                    "date": "2019-10-28T00:00:00",
                    "week_number": 44,
                    "weekday": 2,
                    "type": "Sprint",
                    "minutes": 45
                  },
                  {
                    "date": "2019-10-28T00:00:00",
                    "week_number": 44,
                    "weekday": 2,
                    "type": "Sprint",
                    "minutes": 90
                  },
                  {
                    "date": "2019-10-29T00:00:00",
                    "week_number": 44,
                    "weekday": 3,
                    "type": "Professional Development",
                    "minutes": 75
                  },
                  {
                    "date": "2019-10-29T00:00:00",
                    "week_number": 44,
                    "weekday": 3,
                    "type": "Sprint",
                    "minutes": 90
                  },
                  {
                    "date": "2019-10-29T00:00:00",
                    "week_number": 44,
                    "weekday": 3,
                    "type": "Sprint",
                    "minutes": 90
                  },
                  {
                    "date": "2019-10-30T00:00:00",
                    "week_number": 44,
                    "weekday": 4,
                    "type": "Professional Development",
                    "minutes": 86
                  },
                  {
                    "date": "2019-10-30T00:00:00",
                    "week_number": 44,
                    "weekday": 4,
                    "type": "Sprint",
                    "minutes": 180
                  },
                  {
                    "date": "2019-10-31T00:00:00",
                    "week_number": 44,
                    "weekday": 5,
                    "type": "Sprint",
                    "minutes": 90
                  },
                  {
                    "date": "2019-10-31T00:00:00",
                    "week_number": 44,
                    "weekday": 5,
                    "type": "Learning Project",
                    "minutes": 90
                  },
                  {
                    "date": "2019-11-01T00:00:00",
                    "week_number": 44,
                    "weekday": 6,
                    "type": "Sprint",
                    "minutes": 180
                  },
                  {
                    "date": "2019-11-02T00:00:00",
                    "week_number": 44,
                    "weekday": 7,
                    "type": "Professional Development",
                    "minutes": 120
                  }
                ]
              }
            },
            "text/plain": [
              "<VegaLite 3 object>\n",
              "\n",
              "If you see this message, it means the renderer has not been properly enabled\n",
              "for the frontend that you are using. For more information, see\n",
              "https://altair-viz.github.io/user_guide/troubleshooting.html\n"
            ]
          },
          "metadata": {}
        }
      ],
      "execution_count": 5,
      "metadata": {
        "collapsed": false,
        "outputHidden": false,
        "inputHidden": false
      }
    }
  ],
  "metadata": {
    "kernelspec": {
      "name": "python3",
      "language": "python",
      "display_name": "Python 3"
    },
    "kernel_info": {
      "name": "python3"
    },
    "language_info": {
      "name": "python",
      "version": "3.7.4",
      "mimetype": "text/x-python",
      "codemirror_mode": {
        "name": "ipython",
        "version": 3
      },
      "pygments_lexer": "ipython3",
      "nbconvert_exporter": "python",
      "file_extension": ".py"
    },
    "nteract": {
      "version": "0.15.0"
    }
  },
  "nbformat": 4,
  "nbformat_minor": 0
}