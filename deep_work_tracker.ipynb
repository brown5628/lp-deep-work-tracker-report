{
 "cells": [
  {
   "cell_type": "code",
   "execution_count": 10,
   "metadata": {
    "tags": [
     "hide_input"
    ]
   },
   "outputs": [],
   "source": [
    "import altair as alt\n",
    "import numpy as np\n",
    "import pandas as pd"
   ]
  },
  {
   "cell_type": "code",
   "execution_count": 11,
   "metadata": {
    "tags": [
     "hide_input"
    ]
   },
   "outputs": [
    {
     "data": {
      "text/html": [
       "<div>\n",
       "<style scoped>\n",
       "    .dataframe tbody tr th:only-of-type {\n",
       "        vertical-align: middle;\n",
       "    }\n",
       "\n",
       "    .dataframe tbody tr th {\n",
       "        vertical-align: top;\n",
       "    }\n",
       "\n",
       "    .dataframe thead th {\n",
       "        text-align: right;\n",
       "    }\n",
       "</style>\n",
       "<table border=\"1\" class=\"dataframe\">\n",
       "  <thead>\n",
       "    <tr style=\"text-align: right;\">\n",
       "      <th></th>\n",
       "      <th>date</th>\n",
       "      <th>week_number</th>\n",
       "      <th>weekday</th>\n",
       "      <th>type</th>\n",
       "      <th>minutes</th>\n",
       "    </tr>\n",
       "  </thead>\n",
       "  <tbody>\n",
       "    <tr>\n",
       "      <th>0</th>\n",
       "      <td>2019-10-05</td>\n",
       "      <td>40</td>\n",
       "      <td>7</td>\n",
       "      <td>Professional Development</td>\n",
       "      <td>95</td>\n",
       "    </tr>\n",
       "    <tr>\n",
       "      <th>1</th>\n",
       "      <td>2019-10-05</td>\n",
       "      <td>40</td>\n",
       "      <td>7</td>\n",
       "      <td>Learning Project</td>\n",
       "      <td>38</td>\n",
       "    </tr>\n",
       "    <tr>\n",
       "      <th>2</th>\n",
       "      <td>2019-10-07</td>\n",
       "      <td>41</td>\n",
       "      <td>2</td>\n",
       "      <td>Professional Development</td>\n",
       "      <td>25</td>\n",
       "    </tr>\n",
       "    <tr>\n",
       "      <th>3</th>\n",
       "      <td>2019-10-07</td>\n",
       "      <td>41</td>\n",
       "      <td>2</td>\n",
       "      <td>Professional Development</td>\n",
       "      <td>65</td>\n",
       "    </tr>\n",
       "    <tr>\n",
       "      <th>4</th>\n",
       "      <td>2019-10-07</td>\n",
       "      <td>41</td>\n",
       "      <td>2</td>\n",
       "      <td>Sprint</td>\n",
       "      <td>180</td>\n",
       "    </tr>\n",
       "  </tbody>\n",
       "</table>\n",
       "</div>"
      ],
      "text/plain": [
       "        date  week_number  weekday                      type  minutes\n",
       "0 2019-10-05           40        7  Professional Development       95\n",
       "1 2019-10-05           40        7          Learning Project       38\n",
       "2 2019-10-07           41        2  Professional Development       25\n",
       "3 2019-10-07           41        2  Professional Development       65\n",
       "4 2019-10-07           41        2                    Sprint      180"
      ]
     },
     "execution_count": 11,
     "metadata": {},
     "output_type": "execute_result"
    }
   ],
   "source": [
    "raw = pd.read_excel(r'C:\\Users\\brown\\OneDrive\\deep_work_tracker.xlsx')\n",
    "raw.head()"
   ]
  },
  {
   "cell_type": "code",
   "execution_count": 12,
   "metadata": {
    "tags": [
     "hide_input"
    ]
   },
   "outputs": [],
   "source": [
    "wrangled = raw.copy()"
   ]
  },
  {
   "cell_type": "code",
   "execution_count": 13,
   "metadata": {
    "tags": [
     "hide_input"
    ]
   },
   "outputs": [
    {
     "data": {
      "application/vnd.vegalite.v3+json": {
       "$schema": "https://vega.github.io/schema/vega-lite/v3.4.0.json",
       "config": {
        "mark": {
         "tooltip": null
        },
        "view": {
         "height": 300,
         "width": 400
        }
       },
       "data": {
        "name": "data-4ccd709b71ae307a142f7a9ececaf029"
       },
       "datasets": {
        "data-4ccd709b71ae307a142f7a9ececaf029": [
         {
          "date": "2019-10-05T00:00:00",
          "minutes": 95,
          "type": "Professional Development",
          "week_number": 40,
          "weekday": 7
         },
         {
          "date": "2019-10-05T00:00:00",
          "minutes": 38,
          "type": "Learning Project",
          "week_number": 40,
          "weekday": 7
         },
         {
          "date": "2019-10-07T00:00:00",
          "minutes": 25,
          "type": "Professional Development",
          "week_number": 41,
          "weekday": 2
         },
         {
          "date": "2019-10-07T00:00:00",
          "minutes": 65,
          "type": "Professional Development",
          "week_number": 41,
          "weekday": 2
         },
         {
          "date": "2019-10-07T00:00:00",
          "minutes": 180,
          "type": "Sprint",
          "week_number": 41,
          "weekday": 2
         },
         {
          "date": "2019-10-08T00:00:00",
          "minutes": 55,
          "type": "Professional Development",
          "week_number": 41,
          "weekday": 3
         },
         {
          "date": "2019-10-08T00:00:00",
          "minutes": 47,
          "type": "Professional Development",
          "week_number": 41,
          "weekday": 3
         },
         {
          "date": "2019-10-08T00:00:00",
          "minutes": 180,
          "type": "Sprint",
          "week_number": 41,
          "weekday": 3
         },
         {
          "date": "2019-10-09T00:00:00",
          "minutes": 97,
          "type": "Professional Development",
          "week_number": 41,
          "weekday": 4
         },
         {
          "date": "2019-10-09T00:00:00",
          "minutes": 60,
          "type": "Sprint",
          "week_number": 41,
          "weekday": 4
         },
         {
          "date": "2019-10-09T00:00:00",
          "minutes": 120,
          "type": "Sprint",
          "week_number": 41,
          "weekday": 4
         },
         {
          "date": "2019-10-10T00:00:00",
          "minutes": 25,
          "type": "Sprint",
          "week_number": 41,
          "weekday": 5
         },
         {
          "date": "2019-10-10T00:00:00",
          "minutes": 103,
          "type": "Sprint",
          "week_number": 41,
          "weekday": 5
         },
         {
          "date": "2019-10-10T00:00:00",
          "minutes": 52,
          "type": "Sprint",
          "week_number": 41,
          "weekday": 5
         },
         {
          "date": "2019-10-11T00:00:00",
          "minutes": 105,
          "type": "Learning Project",
          "week_number": 41,
          "weekday": 6
         },
         {
          "date": "2019-10-11T00:00:00",
          "minutes": 90,
          "type": "Learning Project",
          "week_number": 41,
          "weekday": 6
         },
         {
          "date": "2019-10-12T00:00:00",
          "minutes": 102,
          "type": "Professional Development",
          "week_number": 41,
          "weekday": 7
         },
         {
          "date": "2019-10-12T00:00:00",
          "minutes": 87,
          "type": "Professional Development",
          "week_number": 41,
          "weekday": 7
         },
         {
          "date": "2019-10-14T00:00:00",
          "minutes": 90,
          "type": "Professional Development",
          "week_number": 42,
          "weekday": 2
         },
         {
          "date": "2019-10-14T00:00:00",
          "minutes": 31,
          "type": "Professional Development",
          "week_number": 42,
          "weekday": 2
         },
         {
          "date": "2019-10-15T00:00:00",
          "minutes": 67,
          "type": "Professional Development",
          "week_number": 42,
          "weekday": 3
         },
         {
          "date": "2019-10-15T00:00:00",
          "minutes": 90,
          "type": "Sprint",
          "week_number": 42,
          "weekday": 3
         },
         {
          "date": "2019-10-15T00:00:00",
          "minutes": 90,
          "type": "Sprint",
          "week_number": 42,
          "weekday": 3
         },
         {
          "date": "2019-10-17T00:00:00",
          "minutes": 94,
          "type": "Professional Development",
          "week_number": 42,
          "weekday": 5
         },
         {
          "date": "2019-10-17T00:00:00",
          "minutes": 180,
          "type": "Sprint",
          "week_number": 42,
          "weekday": 5
         },
         {
          "date": "2019-10-18T00:00:00",
          "minutes": 78,
          "type": "Learning Project",
          "week_number": 42,
          "weekday": 6
         },
         {
          "date": "2019-10-18T00:00:00",
          "minutes": 90,
          "type": "Sprint",
          "week_number": 42,
          "weekday": 6
         },
         {
          "date": "2019-10-19T00:00:00",
          "minutes": 90,
          "type": "Professional Development",
          "week_number": 42,
          "weekday": 7
         },
         {
          "date": "2019-10-21T00:00:00",
          "minutes": 90,
          "type": "Professional Development",
          "week_number": 43,
          "weekday": 2
         },
         {
          "date": "2019-10-21T00:00:00",
          "minutes": 180,
          "type": "Sprint",
          "week_number": 43,
          "weekday": 2
         },
         {
          "date": "2019-10-22T00:00:00",
          "minutes": 95,
          "type": "Professional Development",
          "week_number": 43,
          "weekday": 3
         },
         {
          "date": "2019-10-22T00:00:00",
          "minutes": 180,
          "type": "Sprint",
          "week_number": 43,
          "weekday": 3
         }
        ]
       },
       "encoding": {
        "color": {
         "field": "type",
         "scale": {
          "scheme": "magma"
         },
         "type": "nominal"
        },
        "column": {
         "field": "week_number",
         "type": "quantitative"
        },
        "tooltip": {
         "field": "minutes",
         "type": "quantitative"
        },
        "x": {
         "field": "minutes",
         "type": "quantitative"
        },
        "y": {
         "field": "weekday",
         "type": "ordinal"
        }
       },
       "height": 220,
       "mark": "bar",
       "width": 220
      },
      "image/png": "[encoded data removed]",
      "text/plain": [
       "<VegaLite 3 object>\n",
       "\n",
       "If you see this message, it means the renderer has not been properly enabled\n",
       "for the frontend that you are using. For more information, see\n",
       "https://altair-viz.github.io/user_guide/troubleshooting.html\n"
      ]
     },
     "execution_count": 13,
     "metadata": {},
     "output_type": "execute_result"
    }
   ],
   "source": [
    "alt.Chart(wrangled).mark_bar().encode(\n",
    "    column='week_number',\n",
    "    x='minutes',\n",
    "    y='weekday:O',\n",
    "    color=alt.Color('type', scale= alt.Scale(scheme='magma')),\n",
    "    tooltip='minutes'\n",
    ").properties(width=220, height = 220)"
   ]
  },
  {
   "cell_type": "code",
   "execution_count": 14,
   "metadata": {
    "tags": [
     "full_width",
     "hide_input"
    ]
   },
   "outputs": [
    {
     "data": {
      "application/vnd.vegalite.v3+json": {
       "$schema": "https://vega.github.io/schema/vega-lite/v3.4.0.json",
       "config": {
        "mark": {
         "tooltip": null
        },
        "view": {
         "height": 300,
         "width": 400
        }
       },
       "data": {
        "name": "data-4ccd709b71ae307a142f7a9ececaf029"
       },
       "datasets": {
        "data-4ccd709b71ae307a142f7a9ececaf029": [
         {
          "date": "2019-10-05T00:00:00",
          "minutes": 95,
          "type": "Professional Development",
          "week_number": 40,
          "weekday": 7
         },
         {
          "date": "2019-10-05T00:00:00",
          "minutes": 38,
          "type": "Learning Project",
          "week_number": 40,
          "weekday": 7
         },
         {
          "date": "2019-10-07T00:00:00",
          "minutes": 25,
          "type": "Professional Development",
          "week_number": 41,
          "weekday": 2
         },
         {
          "date": "2019-10-07T00:00:00",
          "minutes": 65,
          "type": "Professional Development",
          "week_number": 41,
          "weekday": 2
         },
         {
          "date": "2019-10-07T00:00:00",
          "minutes": 180,
          "type": "Sprint",
          "week_number": 41,
          "weekday": 2
         },
         {
          "date": "2019-10-08T00:00:00",
          "minutes": 55,
          "type": "Professional Development",
          "week_number": 41,
          "weekday": 3
         },
         {
          "date": "2019-10-08T00:00:00",
          "minutes": 47,
          "type": "Professional Development",
          "week_number": 41,
          "weekday": 3
         },
         {
          "date": "2019-10-08T00:00:00",
          "minutes": 180,
          "type": "Sprint",
          "week_number": 41,
          "weekday": 3
         },
         {
          "date": "2019-10-09T00:00:00",
          "minutes": 97,
          "type": "Professional Development",
          "week_number": 41,
          "weekday": 4
         },
         {
          "date": "2019-10-09T00:00:00",
          "minutes": 60,
          "type": "Sprint",
          "week_number": 41,
          "weekday": 4
         },
         {
          "date": "2019-10-09T00:00:00",
          "minutes": 120,
          "type": "Sprint",
          "week_number": 41,
          "weekday": 4
         },
         {
          "date": "2019-10-10T00:00:00",
          "minutes": 25,
          "type": "Sprint",
          "week_number": 41,
          "weekday": 5
         },
         {
          "date": "2019-10-10T00:00:00",
          "minutes": 103,
          "type": "Sprint",
          "week_number": 41,
          "weekday": 5
         },
         {
          "date": "2019-10-10T00:00:00",
          "minutes": 52,
          "type": "Sprint",
          "week_number": 41,
          "weekday": 5
         },
         {
          "date": "2019-10-11T00:00:00",
          "minutes": 105,
          "type": "Learning Project",
          "week_number": 41,
          "weekday": 6
         },
         {
          "date": "2019-10-11T00:00:00",
          "minutes": 90,
          "type": "Learning Project",
          "week_number": 41,
          "weekday": 6
         },
         {
          "date": "2019-10-12T00:00:00",
          "minutes": 102,
          "type": "Professional Development",
          "week_number": 41,
          "weekday": 7
         },
         {
          "date": "2019-10-12T00:00:00",
          "minutes": 87,
          "type": "Professional Development",
          "week_number": 41,
          "weekday": 7
         },
         {
          "date": "2019-10-14T00:00:00",
          "minutes": 90,
          "type": "Professional Development",
          "week_number": 42,
          "weekday": 2
         },
         {
          "date": "2019-10-14T00:00:00",
          "minutes": 31,
          "type": "Professional Development",
          "week_number": 42,
          "weekday": 2
         },
         {
          "date": "2019-10-15T00:00:00",
          "minutes": 67,
          "type": "Professional Development",
          "week_number": 42,
          "weekday": 3
         },
         {
          "date": "2019-10-15T00:00:00",
          "minutes": 90,
          "type": "Sprint",
          "week_number": 42,
          "weekday": 3
         },
         {
          "date": "2019-10-15T00:00:00",
          "minutes": 90,
          "type": "Sprint",
          "week_number": 42,
          "weekday": 3
         },
         {
          "date": "2019-10-17T00:00:00",
          "minutes": 94,
          "type": "Professional Development",
          "week_number": 42,
          "weekday": 5
         },
         {
          "date": "2019-10-17T00:00:00",
          "minutes": 180,
          "type": "Sprint",
          "week_number": 42,
          "weekday": 5
         },
         {
          "date": "2019-10-18T00:00:00",
          "minutes": 78,
          "type": "Learning Project",
          "week_number": 42,
          "weekday": 6
         },
         {
          "date": "2019-10-18T00:00:00",
          "minutes": 90,
          "type": "Sprint",
          "week_number": 42,
          "weekday": 6
         },
         {
          "date": "2019-10-19T00:00:00",
          "minutes": 90,
          "type": "Professional Development",
          "week_number": 42,
          "weekday": 7
         },
         {
          "date": "2019-10-21T00:00:00",
          "minutes": 90,
          "type": "Professional Development",
          "week_number": 43,
          "weekday": 2
         },
         {
          "date": "2019-10-21T00:00:00",
          "minutes": 180,
          "type": "Sprint",
          "week_number": 43,
          "weekday": 2
         },
         {
          "date": "2019-10-22T00:00:00",
          "minutes": 95,
          "type": "Professional Development",
          "week_number": 43,
          "weekday": 3
         },
         {
          "date": "2019-10-22T00:00:00",
          "minutes": 180,
          "type": "Sprint",
          "week_number": 43,
          "weekday": 3
         }
        ]
       },
       "encoding": {
        "color": {
         "field": "type",
         "scale": {
          "scheme": "magma"
         },
         "type": "nominal"
        },
        "column": {
         "field": "week_number",
         "type": "quantitative"
        },
        "tooltip": {
         "field": "minutes",
         "type": "quantitative"
        },
        "x": {
         "field": "minutes",
         "type": "quantitative"
        },
        "y": {
         "field": "weekday",
         "type": "ordinal"
        }
       },
       "height": 220,
       "mark": "bar",
       "width": 220
      },
      "image/png": "[encoded data removed]",
      "text/plain": [
       "<VegaLite 3 object>\n",
       "\n",
       "If you see this message, it means the renderer has not been properly enabled\n",
       "for the frontend that you are using. For more information, see\n",
       "https://altair-viz.github.io/user_guide/troubleshooting.html\n"
      ]
     },
     "execution_count": 14,
     "metadata": {},
     "output_type": "execute_result"
    }
   ],
   "source": [
    "alt.Chart(wrangled).mark_bar().encode(\n",
    "    column='week_number',\n",
    "    x='minutes',\n",
    "    y='weekday:O',\n",
    "    color=alt.Color('type', scale= alt.Scale(scheme='magma')),\n",
    "    tooltip='minutes'\n",
    ").properties(width=220, height = 220)"
   ]
  },
  {
   "cell_type": "code",
   "execution_count": 15,
   "metadata": {
    "tags": [
     "hide_input"
    ]
   },
   "outputs": [
    {
     "data": {
      "text/html": [
       "<div>\n",
       "<style scoped>\n",
       "    .dataframe tbody tr th:only-of-type {\n",
       "        vertical-align: middle;\n",
       "    }\n",
       "\n",
       "    .dataframe tbody tr th {\n",
       "        vertical-align: top;\n",
       "    }\n",
       "\n",
       "    .dataframe thead th {\n",
       "        text-align: right;\n",
       "    }\n",
       "</style>\n",
       "<table border=\"1\" class=\"dataframe\">\n",
       "  <thead>\n",
       "    <tr style=\"text-align: right;\">\n",
       "      <th></th>\n",
       "      <th>site</th>\n",
       "      <th>variety</th>\n",
       "      <th>year</th>\n",
       "      <th>yield</th>\n",
       "    </tr>\n",
       "  </thead>\n",
       "  <tbody>\n",
       "    <tr>\n",
       "      <th>0</th>\n",
       "      <td>University Farm</td>\n",
       "      <td>Manchuria</td>\n",
       "      <td>1931</td>\n",
       "      <td>27.00000</td>\n",
       "    </tr>\n",
       "    <tr>\n",
       "      <th>1</th>\n",
       "      <td>Waseca</td>\n",
       "      <td>Manchuria</td>\n",
       "      <td>1931</td>\n",
       "      <td>48.86667</td>\n",
       "    </tr>\n",
       "    <tr>\n",
       "      <th>2</th>\n",
       "      <td>Morris</td>\n",
       "      <td>Manchuria</td>\n",
       "      <td>1931</td>\n",
       "      <td>27.43334</td>\n",
       "    </tr>\n",
       "    <tr>\n",
       "      <th>3</th>\n",
       "      <td>Crookston</td>\n",
       "      <td>Manchuria</td>\n",
       "      <td>1931</td>\n",
       "      <td>39.93333</td>\n",
       "    </tr>\n",
       "    <tr>\n",
       "      <th>4</th>\n",
       "      <td>Grand Rapids</td>\n",
       "      <td>Manchuria</td>\n",
       "      <td>1931</td>\n",
       "      <td>32.96667</td>\n",
       "    </tr>\n",
       "  </tbody>\n",
       "</table>\n",
       "</div>"
      ],
      "text/plain": [
       "              site    variety  year     yield\n",
       "0  University Farm  Manchuria  1931  27.00000\n",
       "1           Waseca  Manchuria  1931  48.86667\n",
       "2           Morris  Manchuria  1931  27.43334\n",
       "3        Crookston  Manchuria  1931  39.93333\n",
       "4     Grand Rapids  Manchuria  1931  32.96667"
      ]
     },
     "execution_count": 15,
     "metadata": {},
     "output_type": "execute_result"
    }
   ],
   "source": [
    "from vega_datasets import data\n",
    "source = data.barley()\n",
    "source.head()"
   ]
  },
  {
   "cell_type": "code",
   "execution_count": 16,
   "metadata": {
    "tags": [
     "popout",
     "hide_input"
    ]
   },
   "outputs": [
    {
     "data": {
      "application/vnd.vegalite.v3+json": {
       "$schema": "https://vega.github.io/schema/vega-lite/v3.4.0.json",
       "config": {
        "mark": {
         "tooltip": null
        },
        "view": {
         "height": 300,
         "width": 400
        }
       },
       "data": {
        "name": "data-093ece8c35bb2d41094cfb6138ec810b"
       },
       "datasets": {
        "data-093ece8c35bb2d41094cfb6138ec810b": [
         {
          "site": "University Farm",
          "variety": "Manchuria",
          "year": 1931,
          "yield": 27
         },
         {
          "site": "Waseca",
          "variety": "Manchuria",
          "year": 1931,
          "yield": 48.86667
         },
         {
          "site": "Morris",
          "variety": "Manchuria",
          "year": 1931,
          "yield": 27.43334
         },
         {
          "site": "Crookston",
          "variety": "Manchuria",
          "year": 1931,
          "yield": 39.93333
         },
         {
          "site": "Grand Rapids",
          "variety": "Manchuria",
          "year": 1931,
          "yield": 32.96667
         },
         {
          "site": "Duluth",
          "variety": "Manchuria",
          "year": 1931,
          "yield": 28.96667
         },
         {
          "site": "University Farm",
          "variety": "Glabron",
          "year": 1931,
          "yield": 43.06666
         },
         {
          "site": "Waseca",
          "variety": "Glabron",
          "year": 1931,
          "yield": 55.2
         },
         {
          "site": "Morris",
          "variety": "Glabron",
          "year": 1931,
          "yield": 28.76667
         },
         {
          "site": "Crookston",
          "variety": "Glabron",
          "year": 1931,
          "yield": 38.13333
         },
         {
          "site": "Grand Rapids",
          "variety": "Glabron",
          "year": 1931,
          "yield": 29.13333
         },
         {
          "site": "Duluth",
          "variety": "Glabron",
          "year": 1931,
          "yield": 29.66667
         },
         {
          "site": "University Farm",
          "variety": "Svansota",
          "year": 1931,
          "yield": 35.13333
         },
         {
          "site": "Waseca",
          "variety": "Svansota",
          "year": 1931,
          "yield": 47.33333
         },
         {
          "site": "Morris",
          "variety": "Svansota",
          "year": 1931,
          "yield": 25.76667
         },
         {
          "site": "Crookston",
          "variety": "Svansota",
          "year": 1931,
          "yield": 40.46667
         },
         {
          "site": "Grand Rapids",
          "variety": "Svansota",
          "year": 1931,
          "yield": 29.66667
         },
         {
          "site": "Duluth",
          "variety": "Svansota",
          "year": 1931,
          "yield": 25.7
         },
         {
          "site": "University Farm",
          "variety": "Velvet",
          "year": 1931,
          "yield": 39.9
         },
         {
          "site": "Waseca",
          "variety": "Velvet",
          "year": 1931,
          "yield": 50.23333
         },
         {
          "site": "Morris",
          "variety": "Velvet",
          "year": 1931,
          "yield": 26.13333
         },
         {
          "site": "Crookston",
          "variety": "Velvet",
          "year": 1931,
          "yield": 41.33333
         },
         {
          "site": "Grand Rapids",
          "variety": "Velvet",
          "year": 1931,
          "yield": 23.03333
         },
         {
          "site": "Duluth",
          "variety": "Velvet",
          "year": 1931,
          "yield": 26.3
         },
         {
          "site": "University Farm",
          "variety": "Trebi",
          "year": 1931,
          "yield": 36.56666
         },
         {
          "site": "Waseca",
          "variety": "Trebi",
          "year": 1931,
          "yield": 63.8333
         },
         {
          "site": "Morris",
          "variety": "Trebi",
          "year": 1931,
          "yield": 43.76667
         },
         {
          "site": "Crookston",
          "variety": "Trebi",
          "year": 1931,
          "yield": 46.93333
         },
         {
          "site": "Grand Rapids",
          "variety": "Trebi",
          "year": 1931,
          "yield": 29.76667
         },
         {
          "site": "Duluth",
          "variety": "Trebi",
          "year": 1931,
          "yield": 33.93333
         },
         {
          "site": "University Farm",
          "variety": "No. 457",
          "year": 1931,
          "yield": 43.26667
         },
         {
          "site": "Waseca",
          "variety": "No. 457",
          "year": 1931,
          "yield": 58.1
         },
         {
          "site": "Morris",
          "variety": "No. 457",
          "year": 1931,
          "yield": 28.7
         },
         {
          "site": "Crookston",
          "variety": "No. 457",
          "year": 1931,
          "yield": 45.66667
         },
         {
          "site": "Grand Rapids",
          "variety": "No. 457",
          "year": 1931,
          "yield": 32.16667
         },
         {
          "site": "Duluth",
          "variety": "No. 457",
          "year": 1931,
          "yield": 33.6
         },
         {
          "site": "University Farm",
          "variety": "No. 462",
          "year": 1931,
          "yield": 36.6
         },
         {
          "site": "Waseca",
          "variety": "No. 462",
          "year": 1931,
          "yield": 65.7667
         },
         {
          "site": "Morris",
          "variety": "No. 462",
          "year": 1931,
          "yield": 30.36667
         },
         {
          "site": "Crookston",
          "variety": "No. 462",
          "year": 1931,
          "yield": 48.56666
         },
         {
          "site": "Grand Rapids",
          "variety": "No. 462",
          "year": 1931,
          "yield": 24.93334
         },
         {
          "site": "Duluth",
          "variety": "No. 462",
          "year": 1931,
          "yield": 28.1
         },
         {
          "site": "University Farm",
          "variety": "Peatland",
          "year": 1931,
          "yield": 32.76667
         },
         {
          "site": "Waseca",
          "variety": "Peatland",
          "year": 1931,
          "yield": 48.56666
         },
         {
          "site": "Morris",
          "variety": "Peatland",
          "year": 1931,
          "yield": 29.86667
         },
         {
          "site": "Crookston",
          "variety": "Peatland",
          "year": 1931,
          "yield": 41.6
         },
         {
          "site": "Grand Rapids",
          "variety": "Peatland",
          "year": 1931,
          "yield": 34.7
         },
         {
          "site": "Duluth",
          "variety": "Peatland",
          "year": 1931,
          "yield": 32
         },
         {
          "site": "University Farm",
          "variety": "No. 475",
          "year": 1931,
          "yield": 24.66667
         },
         {
          "site": "Waseca",
          "variety": "No. 475",
          "year": 1931,
          "yield": 46.76667
         },
         {
          "site": "Morris",
          "variety": "No. 475",
          "year": 1931,
          "yield": 22.6
         },
         {
          "site": "Crookston",
          "variety": "No. 475",
          "year": 1931,
          "yield": 44.1
         },
         {
          "site": "Grand Rapids",
          "variety": "No. 475",
          "year": 1931,
          "yield": 19.7
         },
         {
          "site": "Duluth",
          "variety": "No. 475",
          "year": 1931,
          "yield": 33.06666
         },
         {
          "site": "University Farm",
          "variety": "Wisconsin No. 38",
          "year": 1931,
          "yield": 39.3
         },
         {
          "site": "Waseca",
          "variety": "Wisconsin No. 38",
          "year": 1931,
          "yield": 58.8
         },
         {
          "site": "Morris",
          "variety": "Wisconsin No. 38",
          "year": 1931,
          "yield": 29.46667
         },
         {
          "site": "Crookston",
          "variety": "Wisconsin No. 38",
          "year": 1931,
          "yield": 49.86667
         },
         {
          "site": "Grand Rapids",
          "variety": "Wisconsin No. 38",
          "year": 1931,
          "yield": 34.46667
         },
         {
          "site": "Duluth",
          "variety": "Wisconsin No. 38",
          "year": 1931,
          "yield": 31.6
         },
         {
          "site": "University Farm",
          "variety": "Manchuria",
          "year": 1932,
          "yield": 26.9
         },
         {
          "site": "Waseca",
          "variety": "Manchuria",
          "year": 1932,
          "yield": 33.46667
         },
         {
          "site": "Morris",
          "variety": "Manchuria",
          "year": 1932,
          "yield": 34.36666
         },
         {
          "site": "Crookston",
          "variety": "Manchuria",
          "year": 1932,
          "yield": 32.96667
         },
         {
          "site": "Grand Rapids",
          "variety": "Manchuria",
          "year": 1932,
          "yield": 22.13333
         },
         {
          "site": "Duluth",
          "variety": "Manchuria",
          "year": 1932,
          "yield": 22.56667
         },
         {
          "site": "University Farm",
          "variety": "Glabron",
          "year": 1932,
          "yield": 36.8
         },
         {
          "site": "Waseca",
          "variety": "Glabron",
          "year": 1932,
          "yield": 37.73333
         },
         {
          "site": "Morris",
          "variety": "Glabron",
          "year": 1932,
          "yield": 35.13333
         },
         {
          "site": "Crookston",
          "variety": "Glabron",
          "year": 1932,
          "yield": 26.16667
         },
         {
          "site": "Grand Rapids",
          "variety": "Glabron",
          "year": 1932,
          "yield": 14.43333
         },
         {
          "site": "Duluth",
          "variety": "Glabron",
          "year": 1932,
          "yield": 25.86667
         },
         {
          "site": "University Farm",
          "variety": "Svansota",
          "year": 1932,
          "yield": 27.43334
         },
         {
          "site": "Waseca",
          "variety": "Svansota",
          "year": 1932,
          "yield": 38.5
         },
         {
          "site": "Morris",
          "variety": "Svansota",
          "year": 1932,
          "yield": 35.03333
         },
         {
          "site": "Crookston",
          "variety": "Svansota",
          "year": 1932,
          "yield": 20.63333
         },
         {
          "site": "Grand Rapids",
          "variety": "Svansota",
          "year": 1932,
          "yield": 16.63333
         },
         {
          "site": "Duluth",
          "variety": "Svansota",
          "year": 1932,
          "yield": 22.23333
         },
         {
          "site": "University Farm",
          "variety": "Velvet",
          "year": 1932,
          "yield": 26.8
         },
         {
          "site": "Waseca",
          "variety": "Velvet",
          "year": 1932,
          "yield": 37.4
         },
         {
          "site": "Morris",
          "variety": "Velvet",
          "year": 1932,
          "yield": 38.83333
         },
         {
          "site": "Crookston",
          "variety": "Velvet",
          "year": 1932,
          "yield": 32.06666
         },
         {
          "site": "Grand Rapids",
          "variety": "Velvet",
          "year": 1932,
          "yield": 32.23333
         },
         {
          "site": "Duluth",
          "variety": "Velvet",
          "year": 1932,
          "yield": 22.46667
         },
         {
          "site": "University Farm",
          "variety": "Trebi",
          "year": 1932,
          "yield": 29.06667
         },
         {
          "site": "Waseca",
          "variety": "Trebi",
          "year": 1932,
          "yield": 49.2333
         },
         {
          "site": "Morris",
          "variety": "Trebi",
          "year": 1932,
          "yield": 46.63333
         },
         {
          "site": "Crookston",
          "variety": "Trebi",
          "year": 1932,
          "yield": 41.83333
         },
         {
          "site": "Grand Rapids",
          "variety": "Trebi",
          "year": 1932,
          "yield": 20.63333
         },
         {
          "site": "Duluth",
          "variety": "Trebi",
          "year": 1932,
          "yield": 30.6
         },
         {
          "site": "University Farm",
          "variety": "No. 457",
          "year": 1932,
          "yield": 26.43334
         },
         {
          "site": "Waseca",
          "variety": "No. 457",
          "year": 1932,
          "yield": 42.2
         },
         {
          "site": "Morris",
          "variety": "No. 457",
          "year": 1932,
          "yield": 43.53334
         },
         {
          "site": "Crookston",
          "variety": "No. 457",
          "year": 1932,
          "yield": 34.33333
         },
         {
          "site": "Grand Rapids",
          "variety": "No. 457",
          "year": 1932,
          "yield": 19.46667
         },
         {
          "site": "Duluth",
          "variety": "No. 457",
          "year": 1932,
          "yield": 22.7
         },
         {
          "site": "University Farm",
          "variety": "No. 462",
          "year": 1932,
          "yield": 25.56667
         },
         {
          "site": "Waseca",
          "variety": "No. 462",
          "year": 1932,
          "yield": 44.7
         },
         {
          "site": "Morris",
          "variety": "No. 462",
          "year": 1932,
          "yield": 47
         },
         {
          "site": "Crookston",
          "variety": "No. 462",
          "year": 1932,
          "yield": 30.53333
         },
         {
          "site": "Grand Rapids",
          "variety": "No. 462",
          "year": 1932,
          "yield": 19.9
         },
         {
          "site": "Duluth",
          "variety": "No. 462",
          "year": 1932,
          "yield": 22.5
         },
         {
          "site": "University Farm",
          "variety": "Peatland",
          "year": 1932,
          "yield": 28.06667
         },
         {
          "site": "Waseca",
          "variety": "Peatland",
          "year": 1932,
          "yield": 36.03333
         },
         {
          "site": "Morris",
          "variety": "Peatland",
          "year": 1932,
          "yield": 43.2
         },
         {
          "site": "Crookston",
          "variety": "Peatland",
          "year": 1932,
          "yield": 25.23333
         },
         {
          "site": "Grand Rapids",
          "variety": "Peatland",
          "year": 1932,
          "yield": 26.76667
         },
         {
          "site": "Duluth",
          "variety": "Peatland",
          "year": 1932,
          "yield": 31.36667
         },
         {
          "site": "University Farm",
          "variety": "No. 475",
          "year": 1932,
          "yield": 30
         },
         {
          "site": "Waseca",
          "variety": "No. 475",
          "year": 1932,
          "yield": 41.26667
         },
         {
          "site": "Morris",
          "variety": "No. 475",
          "year": 1932,
          "yield": 44.23333
         },
         {
          "site": "Crookston",
          "variety": "No. 475",
          "year": 1932,
          "yield": 32.13333
         },
         {
          "site": "Grand Rapids",
          "variety": "No. 475",
          "year": 1932,
          "yield": 15.23333
         },
         {
          "site": "Duluth",
          "variety": "No. 475",
          "year": 1932,
          "yield": 27.36667
         },
         {
          "site": "University Farm",
          "variety": "Wisconsin No. 38",
          "year": 1932,
          "yield": 38
         },
         {
          "site": "Waseca",
          "variety": "Wisconsin No. 38",
          "year": 1932,
          "yield": 58.16667
         },
         {
          "site": "Morris",
          "variety": "Wisconsin No. 38",
          "year": 1932,
          "yield": 47.16667
         },
         {
          "site": "Crookston",
          "variety": "Wisconsin No. 38",
          "year": 1932,
          "yield": 35.9
         },
         {
          "site": "Grand Rapids",
          "variety": "Wisconsin No. 38",
          "year": 1932,
          "yield": 20.66667
         },
         {
          "site": "Duluth",
          "variety": "Wisconsin No. 38",
          "year": 1932,
          "yield": 29.33333
         }
        ]
       },
       "encoding": {
        "color": {
         "field": "site",
         "type": "nominal"
        },
        "column": {
         "field": "year",
         "type": "quantitative"
        },
        "x": {
         "field": "yield",
         "type": "quantitative"
        },
        "y": {
         "field": "variety",
         "type": "nominal"
        }
       },
       "mark": "bar",
       "width": 220
      },
      "image/png": "[encoded data removed]",
      "text/plain": [
       "<VegaLite 3 object>\n",
       "\n",
       "If you see this message, it means the renderer has not been properly enabled\n",
       "for the frontend that you are using. For more information, see\n",
       "https://altair-viz.github.io/user_guide/troubleshooting.html\n"
      ]
     },
     "execution_count": 16,
     "metadata": {},
     "output_type": "execute_result"
    }
   ],
   "source": [
    "alt.Chart(source).mark_bar().encode(\n",
    "    column='year',\n",
    "    x='yield',\n",
    "    y='variety',\n",
    "    color='site'\n",
    ").properties(width=220)"
   ]
  },
  {
   "cell_type": "code",
   "execution_count": null,
   "metadata": {},
   "outputs": [],
   "source": []
  }
 ],
 "metadata": {
  "kernelspec": {
   "display_name": "Python 3",
   "language": "python",
   "name": "python3"
  },
  "language_info": {
   "codemirror_mode": {
    "name": "ipython",
    "version": 3
   },
   "file_extension": ".py",
   "mimetype": "text/x-python",
   "name": "python",
   "nbconvert_exporter": "python",
   "pygments_lexer": "ipython3",
   "version": "3.7.3"
  }
 },
 "nbformat": 4,
 "nbformat_minor": 4
}
