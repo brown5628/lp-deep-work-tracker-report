{
  "cells": [
    {
      "cell_type": "code",
      "source": [
        "import pandas as pd\n",
        "import altair as alt\n",
        "import numpy as np\n"
      ],
      "outputs": [],
      "execution_count": null,
      "metadata": {
        "collapsed": false,
        "outputHidden": false,
        "inputHidden": false
      }
    },
    {
      "cell_type": "code",
      "source": [
        "raw = pd.read_excel(r'C:\\Users\\brown\\OneDrive\\deep_work_tracker.xlsx')\n"
      ],
      "outputs": [],
      "execution_count": null,
      "metadata": {
        "collapsed": false,
        "outputHidden": false,
        "inputHidden": false
      }
    },
    {
      "cell_type": "code",
      "source": [
        "wrangled = raw.copy()\n",
        "#wrangled.assign\n"
      ],
      "outputs": [],
      "execution_count": null,
      "metadata": {
        "collapsed": false,
        "outputHidden": false,
        "inputHidden": false
      }
    },
    {
      "cell_type": "code",
      "source": [
        "upper = alt.Chart(wrangled).mark_rect().encode(\n",
        "    x = 'week_number:O',\n",
        "    y = 'weekday:O',\n",
        "    color = 'minutes:Q'\n",
        ")\n",
        "\n",
        "lower = alt.Chart(wrangled).mark_bar().encode(\n",
        "    x = 'sum(minutes):Q',\n",
        "    y = 'type:N'\n",
        ")\n",
        "\n",
        "alt.vconcat(upper,lower)\n"
      ],
      "outputs": [],
      "execution_count": null,
      "metadata": {
        "collapsed": false,
        "outputHidden": false,
        "inputHidden": false
      }
    },
    {
      "cell_type": "code",
      "source": [
        "alt.Chart(wrangled).mark_rect().encode(\n",
        "    x = 'week_number:O',\n",
        "    y = 'weekday:O',\n",
        "    color = 'minutes:Q'\n",
        ").facet(\n",
        "    column = 'type:N'\n",
        ")"
      ],
      "outputs": [],
      "execution_count": null,
      "metadata": {
        "collapsed": false,
        "outputHidden": false,
        "inputHidden": false
      }
    }
  ],
  "metadata": {
    "kernelspec": {
      "argv": [
        "C:\\Users\\brown\\Anaconda3\\envs\\my_conda\\python.exe",
        "-m",
        "ipykernel_launcher",
        "-f",
        "{connection_file}"
      ],
      "display_name": "Python 3",
      "language": "python",
      "name": "python3"
    }
  },
  "nbformat": 4,
  "nbformat_minor": 0
}